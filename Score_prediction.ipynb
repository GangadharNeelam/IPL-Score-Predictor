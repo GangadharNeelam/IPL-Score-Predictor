{
 "cells": [
  {
   "cell_type": "markdown",
   "id": "de1f5501",
   "metadata": {},
   "source": [
    "#### Ball by ball data of the matches played during the 10 seasons of IPL.\n",
    "    Dataset consists following columns:\n",
    "\n",
    "        -  mid: Unique match id\n",
    "\n",
    "        - date: Date on which the match was played\n",
    "\n",
    "        - venue: Stadium where match was played\n",
    "\n",
    "        - battingteam: Batting team name\n",
    "\n",
    "        - bowlingteam: Bowling team name\n",
    "\n",
    "        - batsman: Batsman who faced that particular ball\n",
    "\n",
    "        - bowler: Bowler who bowled that particular ball\n",
    "\n",
    "        - runs: Runs scored by team till that point of instance\n",
    "\n",
    "        - wickets: Number of Wickets fallen of the team till that point of instance\n",
    "\n",
    "        - overs: Number of Overs bowled till that point of instance\n",
    "\n",
    "        - runslast5: Runs scored in previous 5 overs\n",
    "\n",
    "        - wicketslast5: Number of Wickets that fell in previous 5 overs\n",
    "\n",
    "        - striker: max(runs scored by striker, runs scored by non-striker)\n",
    "\n",
    "        - non-striker: min(runs scored by striker, runs scored by non-striker)\n",
    "\n",
    "        - total: Total runs scored by batting team at the end of first innings"
   ]
  },
  {
   "cell_type": "code",
   "execution_count": 1,
   "id": "f580cd13",
   "metadata": {},
   "outputs": [],
   "source": [
    "import os,numpy as np,pandas as pd,matplotlib.pyplot as plt,seaborn as sns\n",
    "import warnings\n",
    "warnings.filterwarnings('ignore')"
   ]
  },
  {
   "cell_type": "code",
   "execution_count": 2,
   "id": "67d53efd",
   "metadata": {},
   "outputs": [],
   "source": [
    "os.chdir(r'C:\\Users\\ganga\\OneDrive\\Desktop\\Machine learning\\Projects')"
   ]
  },
  {
   "cell_type": "code",
   "execution_count": 3,
   "id": "ba984c7a",
   "metadata": {},
   "outputs": [
    {
     "data": {
      "text/plain": [
       "['data.csv']"
      ]
     },
     "execution_count": 3,
     "metadata": {},
     "output_type": "execute_result"
    }
   ],
   "source": [
    "os.listdir()"
   ]
  },
  {
   "cell_type": "code",
   "execution_count": 4,
   "id": "167e62b9",
   "metadata": {},
   "outputs": [],
   "source": [
    "data = pd.read_csv('data.csv')"
   ]
  },
  {
   "cell_type": "code",
   "execution_count": 5,
   "id": "3eb2864f",
   "metadata": {},
   "outputs": [
    {
     "data": {
      "text/html": [
       "<div>\n",
       "<style scoped>\n",
       "    .dataframe tbody tr th:only-of-type {\n",
       "        vertical-align: middle;\n",
       "    }\n",
       "\n",
       "    .dataframe tbody tr th {\n",
       "        vertical-align: top;\n",
       "    }\n",
       "\n",
       "    .dataframe thead th {\n",
       "        text-align: right;\n",
       "    }\n",
       "</style>\n",
       "<table border=\"1\" class=\"dataframe\">\n",
       "  <thead>\n",
       "    <tr style=\"text-align: right;\">\n",
       "      <th></th>\n",
       "      <th>mid</th>\n",
       "      <th>date</th>\n",
       "      <th>venue</th>\n",
       "      <th>batting_team</th>\n",
       "      <th>bowling_team</th>\n",
       "      <th>batsman</th>\n",
       "      <th>bowler</th>\n",
       "      <th>runs</th>\n",
       "      <th>wickets</th>\n",
       "      <th>overs</th>\n",
       "      <th>runs_last_5</th>\n",
       "      <th>wickets_last_5</th>\n",
       "      <th>striker</th>\n",
       "      <th>non-striker</th>\n",
       "      <th>total</th>\n",
       "    </tr>\n",
       "  </thead>\n",
       "  <tbody>\n",
       "    <tr>\n",
       "      <th>0</th>\n",
       "      <td>1</td>\n",
       "      <td>2008-04-18</td>\n",
       "      <td>M Chinnaswamy Stadium</td>\n",
       "      <td>Kolkata Knight Riders</td>\n",
       "      <td>Royal Challengers Bangalore</td>\n",
       "      <td>SC Ganguly</td>\n",
       "      <td>P Kumar</td>\n",
       "      <td>1</td>\n",
       "      <td>0</td>\n",
       "      <td>0.1</td>\n",
       "      <td>1</td>\n",
       "      <td>0</td>\n",
       "      <td>0</td>\n",
       "      <td>0</td>\n",
       "      <td>222</td>\n",
       "    </tr>\n",
       "    <tr>\n",
       "      <th>1</th>\n",
       "      <td>1</td>\n",
       "      <td>2008-04-18</td>\n",
       "      <td>M Chinnaswamy Stadium</td>\n",
       "      <td>Kolkata Knight Riders</td>\n",
       "      <td>Royal Challengers Bangalore</td>\n",
       "      <td>BB McCullum</td>\n",
       "      <td>P Kumar</td>\n",
       "      <td>1</td>\n",
       "      <td>0</td>\n",
       "      <td>0.2</td>\n",
       "      <td>1</td>\n",
       "      <td>0</td>\n",
       "      <td>0</td>\n",
       "      <td>0</td>\n",
       "      <td>222</td>\n",
       "    </tr>\n",
       "    <tr>\n",
       "      <th>2</th>\n",
       "      <td>1</td>\n",
       "      <td>2008-04-18</td>\n",
       "      <td>M Chinnaswamy Stadium</td>\n",
       "      <td>Kolkata Knight Riders</td>\n",
       "      <td>Royal Challengers Bangalore</td>\n",
       "      <td>BB McCullum</td>\n",
       "      <td>P Kumar</td>\n",
       "      <td>2</td>\n",
       "      <td>0</td>\n",
       "      <td>0.2</td>\n",
       "      <td>2</td>\n",
       "      <td>0</td>\n",
       "      <td>0</td>\n",
       "      <td>0</td>\n",
       "      <td>222</td>\n",
       "    </tr>\n",
       "    <tr>\n",
       "      <th>3</th>\n",
       "      <td>1</td>\n",
       "      <td>2008-04-18</td>\n",
       "      <td>M Chinnaswamy Stadium</td>\n",
       "      <td>Kolkata Knight Riders</td>\n",
       "      <td>Royal Challengers Bangalore</td>\n",
       "      <td>BB McCullum</td>\n",
       "      <td>P Kumar</td>\n",
       "      <td>2</td>\n",
       "      <td>0</td>\n",
       "      <td>0.3</td>\n",
       "      <td>2</td>\n",
       "      <td>0</td>\n",
       "      <td>0</td>\n",
       "      <td>0</td>\n",
       "      <td>222</td>\n",
       "    </tr>\n",
       "    <tr>\n",
       "      <th>4</th>\n",
       "      <td>1</td>\n",
       "      <td>2008-04-18</td>\n",
       "      <td>M Chinnaswamy Stadium</td>\n",
       "      <td>Kolkata Knight Riders</td>\n",
       "      <td>Royal Challengers Bangalore</td>\n",
       "      <td>BB McCullum</td>\n",
       "      <td>P Kumar</td>\n",
       "      <td>2</td>\n",
       "      <td>0</td>\n",
       "      <td>0.4</td>\n",
       "      <td>2</td>\n",
       "      <td>0</td>\n",
       "      <td>0</td>\n",
       "      <td>0</td>\n",
       "      <td>222</td>\n",
       "    </tr>\n",
       "  </tbody>\n",
       "</table>\n",
       "</div>"
      ],
      "text/plain": [
       "   mid        date                  venue           batting_team  \\\n",
       "0    1  2008-04-18  M Chinnaswamy Stadium  Kolkata Knight Riders   \n",
       "1    1  2008-04-18  M Chinnaswamy Stadium  Kolkata Knight Riders   \n",
       "2    1  2008-04-18  M Chinnaswamy Stadium  Kolkata Knight Riders   \n",
       "3    1  2008-04-18  M Chinnaswamy Stadium  Kolkata Knight Riders   \n",
       "4    1  2008-04-18  M Chinnaswamy Stadium  Kolkata Knight Riders   \n",
       "\n",
       "                  bowling_team      batsman   bowler  runs  wickets  overs  \\\n",
       "0  Royal Challengers Bangalore   SC Ganguly  P Kumar     1        0    0.1   \n",
       "1  Royal Challengers Bangalore  BB McCullum  P Kumar     1        0    0.2   \n",
       "2  Royal Challengers Bangalore  BB McCullum  P Kumar     2        0    0.2   \n",
       "3  Royal Challengers Bangalore  BB McCullum  P Kumar     2        0    0.3   \n",
       "4  Royal Challengers Bangalore  BB McCullum  P Kumar     2        0    0.4   \n",
       "\n",
       "   runs_last_5  wickets_last_5  striker  non-striker  total  \n",
       "0            1               0        0            0    222  \n",
       "1            1               0        0            0    222  \n",
       "2            2               0        0            0    222  \n",
       "3            2               0        0            0    222  \n",
       "4            2               0        0            0    222  "
      ]
     },
     "execution_count": 5,
     "metadata": {},
     "output_type": "execute_result"
    }
   ],
   "source": [
    "data.head()"
   ]
  },
  {
   "cell_type": "code",
   "execution_count": 6,
   "id": "525afbb5",
   "metadata": {},
   "outputs": [
    {
     "data": {
      "text/plain": [
       "(76014, 15)"
      ]
     },
     "execution_count": 6,
     "metadata": {},
     "output_type": "execute_result"
    }
   ],
   "source": [
    "data.shape"
   ]
  },
  {
   "cell_type": "code",
   "execution_count": 7,
   "id": "042d14db",
   "metadata": {},
   "outputs": [
    {
     "name": "stdout",
     "output_type": "stream",
     "text": [
      "<class 'pandas.core.frame.DataFrame'>\n",
      "RangeIndex: 76014 entries, 0 to 76013\n",
      "Data columns (total 15 columns):\n",
      " #   Column          Non-Null Count  Dtype  \n",
      "---  ------          --------------  -----  \n",
      " 0   mid             76014 non-null  int64  \n",
      " 1   date            76014 non-null  object \n",
      " 2   venue           76014 non-null  object \n",
      " 3   batting_team    76014 non-null  object \n",
      " 4   bowling_team    76014 non-null  object \n",
      " 5   batsman         76014 non-null  object \n",
      " 6   bowler          76014 non-null  object \n",
      " 7   runs            76014 non-null  int64  \n",
      " 8   wickets         76014 non-null  int64  \n",
      " 9   overs           76014 non-null  float64\n",
      " 10  runs_last_5     76014 non-null  int64  \n",
      " 11  wickets_last_5  76014 non-null  int64  \n",
      " 12  striker         76014 non-null  int64  \n",
      " 13  non-striker     76014 non-null  int64  \n",
      " 14  total           76014 non-null  int64  \n",
      "dtypes: float64(1), int64(8), object(6)\n",
      "memory usage: 8.7+ MB\n"
     ]
    }
   ],
   "source": [
    "data.info()"
   ]
  },
  {
   "cell_type": "code",
   "execution_count": 8,
   "id": "f1f03ddf",
   "metadata": {},
   "outputs": [
    {
     "data": {
      "text/plain": [
       "Index(['mid', 'date', 'venue', 'batting_team', 'bowling_team', 'batsman',\n",
       "       'bowler', 'runs', 'wickets', 'overs', 'runs_last_5', 'wickets_last_5',\n",
       "       'striker', 'non-striker', 'total'],\n",
       "      dtype='object')"
      ]
     },
     "execution_count": 8,
     "metadata": {},
     "output_type": "execute_result"
    }
   ],
   "source": [
    "data.columns"
   ]
  },
  {
   "cell_type": "code",
   "execution_count": 9,
   "id": "1a92d94a",
   "metadata": {},
   "outputs": [
    {
     "name": "stdout",
     "output_type": "stream",
     "text": [
      "Before Removing Irrelevant Columns : (76014, 15)\n",
      "After Removing Irrelevant Columns : (76014, 9)\n"
     ]
    }
   ],
   "source": [
    "columns=['mid','date','batsman','bowler','striker','non-striker']\n",
    "print(f'Before Removing Irrelevant Columns : {data.shape}')\n",
    "data = data.drop(columns, axis=1) # Drop Irrelevant Columns\n",
    "print(f'After Removing Irrelevant Columns : {data.shape}')"
   ]
  },
  {
   "cell_type": "code",
   "execution_count": 10,
   "id": "f6329832",
   "metadata": {},
   "outputs": [
    {
     "data": {
      "text/plain": [
       "Index(['venue', 'batting_team', 'bowling_team'], dtype='object')"
      ]
     },
     "execution_count": 10,
     "metadata": {},
     "output_type": "execute_result"
    }
   ],
   "source": [
    "cat_feat = data.select_dtypes(include='O')\n",
    "cat_feat.columns"
   ]
  },
  {
   "cell_type": "code",
   "execution_count": 11,
   "id": "92e403f7",
   "metadata": {},
   "outputs": [
    {
     "data": {
      "text/plain": [
       "Index(['runs', 'wickets', 'overs', 'runs_last_5', 'wickets_last_5', 'total'], dtype='object')"
      ]
     },
     "execution_count": 11,
     "metadata": {},
     "output_type": "execute_result"
    }
   ],
   "source": [
    "num_feat = data.select_dtypes(include='number')\n",
    "num_feat.columns"
   ]
  },
  {
   "cell_type": "code",
   "execution_count": 12,
   "id": "61f4c724",
   "metadata": {},
   "outputs": [
    {
     "name": "stdout",
     "output_type": "stream",
     "text": [
      "venue \n",
      " Number of unique values are: 35 \n",
      " Unique values are: ['M Chinnaswamy Stadium' 'Punjab Cricket Association Stadium, Mohali'\n",
      " 'Feroz Shah Kotla' 'Wankhede Stadium' 'Eden Gardens'\n",
      " 'Sawai Mansingh Stadium' 'Rajiv Gandhi International Stadium, Uppal'\n",
      " 'MA Chidambaram Stadium, Chepauk' 'Dr DY Patil Sports Academy' 'Newlands'\n",
      " \"St George's Park\" 'Kingsmead' 'SuperSport Park' 'Buffalo Park'\n",
      " 'New Wanderers Stadium' 'De Beers Diamond Oval' 'OUTsurance Oval'\n",
      " 'Brabourne Stadium' 'Sardar Patel Stadium, Motera' 'Barabati Stadium'\n",
      " 'Vidarbha Cricket Association Stadium, Jamtha'\n",
      " 'Himachal Pradesh Cricket Association Stadium' 'Nehru Stadium'\n",
      " 'Holkar Cricket Stadium'\n",
      " 'Dr. Y.S. Rajasekhara Reddy ACA-VDCA Cricket Stadium'\n",
      " 'Subrata Roy Sahara Stadium'\n",
      " 'Shaheed Veer Narayan Singh International Stadium'\n",
      " 'JSCA International Stadium Complex' 'Sheikh Zayed Stadium'\n",
      " 'Sharjah Cricket Stadium' 'Dubai International Cricket Stadium'\n",
      " 'Maharashtra Cricket Association Stadium'\n",
      " 'Punjab Cricket Association IS Bindra Stadium, Mohali'\n",
      " 'Saurashtra Cricket Association Stadium' 'Green Park']\n",
      " \n",
      "batting_team \n",
      " Number of unique values are: 14 \n",
      " Unique values are: ['Kolkata Knight Riders' 'Chennai Super Kings' 'Rajasthan Royals'\n",
      " 'Mumbai Indians' 'Deccan Chargers' 'Kings XI Punjab'\n",
      " 'Royal Challengers Bangalore' 'Delhi Daredevils' 'Kochi Tuskers Kerala'\n",
      " 'Pune Warriors' 'Sunrisers Hyderabad' 'Rising Pune Supergiants'\n",
      " 'Gujarat Lions' 'Rising Pune Supergiant']\n",
      " \n",
      "bowling_team \n",
      " Number of unique values are: 14 \n",
      " Unique values are: ['Royal Challengers Bangalore' 'Kings XI Punjab' 'Delhi Daredevils'\n",
      " 'Kolkata Knight Riders' 'Rajasthan Royals' 'Mumbai Indians'\n",
      " 'Chennai Super Kings' 'Deccan Chargers' 'Pune Warriors'\n",
      " 'Kochi Tuskers Kerala' 'Sunrisers Hyderabad' 'Rising Pune Supergiants'\n",
      " 'Gujarat Lions' 'Rising Pune Supergiant']\n",
      " \n"
     ]
    }
   ],
   "source": [
    "# Unique values in data\n",
    "for i in cat_feat.columns:\n",
    "    print(f'{i} \\n Number of unique values are: {data[i].nunique()} \\n Unique values are: {data[i].unique()}\\n ')"
   ]
  },
  {
   "cell_type": "code",
   "execution_count": 13,
   "id": "289d55c3",
   "metadata": {},
   "outputs": [
    {
     "data": {
      "text/plain": [
       "venue              35\n",
       "batting_team       14\n",
       "bowling_team       14\n",
       "runs              252\n",
       "wickets            11\n",
       "overs             140\n",
       "runs_last_5       102\n",
       "wickets_last_5      8\n",
       "total             138\n",
       "dtype: int64"
      ]
     },
     "execution_count": 13,
     "metadata": {},
     "output_type": "execute_result"
    }
   ],
   "source": [
    "data.nunique()"
   ]
  },
  {
   "cell_type": "code",
   "execution_count": 14,
   "id": "9689ae90",
   "metadata": {},
   "outputs": [],
   "source": [
    "teams = ['Kolkata Knight Riders', 'Chennai Super Kings', 'Rajasthan Royals',\n",
    "              'Mumbai Indians', 'Kings XI Punjab', 'Royal Challengers Bangalore',\n",
    "              'Delhi Daredevils', 'Sunrisers Hyderabad', 'Gujarat Lions']"
   ]
  },
  {
   "cell_type": "code",
   "execution_count": 15,
   "id": "05c8ea05",
   "metadata": {},
   "outputs": [
    {
     "name": "stdout",
     "output_type": "stream",
     "text": [
      "Before Removing Inconsistent Teams : (76014, 9)\n",
      "After Removing Irrelevant records : (57017, 9)\n",
      "Consistent Teams : \n",
      "['Kolkata Knight Riders' 'Chennai Super Kings' 'Rajasthan Royals'\n",
      " 'Mumbai Indians' 'Kings XI Punjab' 'Royal Challengers Bangalore'\n",
      " 'Delhi Daredevils' 'Sunrisers Hyderabad' 'Gujarat Lions']\n"
     ]
    }
   ],
   "source": [
    "print(f'Before Removing Inconsistent Teams : {data.shape}')\n",
    "data = data[(data['batting_team'].isin(teams)) & (data['bowling_team'].isin(teams))]\n",
    "print(f'After Removing Irrelevant records : {data.shape}')\n",
    "print(f\"Consistent Teams : \\n{data['batting_team'].unique()}\")\n"
   ]
  },
  {
   "cell_type": "code",
   "execution_count": 16,
   "id": "8f8b6bbc",
   "metadata": {},
   "outputs": [
    {
     "data": {
      "text/html": [
       "<div>\n",
       "<style scoped>\n",
       "    .dataframe tbody tr th:only-of-type {\n",
       "        vertical-align: middle;\n",
       "    }\n",
       "\n",
       "    .dataframe tbody tr th {\n",
       "        vertical-align: top;\n",
       "    }\n",
       "\n",
       "    .dataframe thead th {\n",
       "        text-align: right;\n",
       "    }\n",
       "</style>\n",
       "<table border=\"1\" class=\"dataframe\">\n",
       "  <thead>\n",
       "    <tr style=\"text-align: right;\">\n",
       "      <th></th>\n",
       "      <th>venue</th>\n",
       "      <th>batting_team</th>\n",
       "      <th>bowling_team</th>\n",
       "      <th>runs</th>\n",
       "      <th>wickets</th>\n",
       "      <th>overs</th>\n",
       "      <th>runs_last_5</th>\n",
       "      <th>wickets_last_5</th>\n",
       "      <th>total</th>\n",
       "    </tr>\n",
       "  </thead>\n",
       "  <tbody>\n",
       "    <tr>\n",
       "      <th>0</th>\n",
       "      <td>M Chinnaswamy Stadium</td>\n",
       "      <td>Kolkata Knight Riders</td>\n",
       "      <td>Royal Challengers Bangalore</td>\n",
       "      <td>1</td>\n",
       "      <td>0</td>\n",
       "      <td>0.1</td>\n",
       "      <td>1</td>\n",
       "      <td>0</td>\n",
       "      <td>222</td>\n",
       "    </tr>\n",
       "    <tr>\n",
       "      <th>1</th>\n",
       "      <td>M Chinnaswamy Stadium</td>\n",
       "      <td>Kolkata Knight Riders</td>\n",
       "      <td>Royal Challengers Bangalore</td>\n",
       "      <td>1</td>\n",
       "      <td>0</td>\n",
       "      <td>0.2</td>\n",
       "      <td>1</td>\n",
       "      <td>0</td>\n",
       "      <td>222</td>\n",
       "    </tr>\n",
       "    <tr>\n",
       "      <th>2</th>\n",
       "      <td>M Chinnaswamy Stadium</td>\n",
       "      <td>Kolkata Knight Riders</td>\n",
       "      <td>Royal Challengers Bangalore</td>\n",
       "      <td>2</td>\n",
       "      <td>0</td>\n",
       "      <td>0.2</td>\n",
       "      <td>2</td>\n",
       "      <td>0</td>\n",
       "      <td>222</td>\n",
       "    </tr>\n",
       "    <tr>\n",
       "      <th>3</th>\n",
       "      <td>M Chinnaswamy Stadium</td>\n",
       "      <td>Kolkata Knight Riders</td>\n",
       "      <td>Royal Challengers Bangalore</td>\n",
       "      <td>2</td>\n",
       "      <td>0</td>\n",
       "      <td>0.3</td>\n",
       "      <td>2</td>\n",
       "      <td>0</td>\n",
       "      <td>222</td>\n",
       "    </tr>\n",
       "    <tr>\n",
       "      <th>4</th>\n",
       "      <td>M Chinnaswamy Stadium</td>\n",
       "      <td>Kolkata Knight Riders</td>\n",
       "      <td>Royal Challengers Bangalore</td>\n",
       "      <td>2</td>\n",
       "      <td>0</td>\n",
       "      <td>0.4</td>\n",
       "      <td>2</td>\n",
       "      <td>0</td>\n",
       "      <td>222</td>\n",
       "    </tr>\n",
       "  </tbody>\n",
       "</table>\n",
       "</div>"
      ],
      "text/plain": [
       "                   venue           batting_team                 bowling_team  \\\n",
       "0  M Chinnaswamy Stadium  Kolkata Knight Riders  Royal Challengers Bangalore   \n",
       "1  M Chinnaswamy Stadium  Kolkata Knight Riders  Royal Challengers Bangalore   \n",
       "2  M Chinnaswamy Stadium  Kolkata Knight Riders  Royal Challengers Bangalore   \n",
       "3  M Chinnaswamy Stadium  Kolkata Knight Riders  Royal Challengers Bangalore   \n",
       "4  M Chinnaswamy Stadium  Kolkata Knight Riders  Royal Challengers Bangalore   \n",
       "\n",
       "   runs  wickets  overs  runs_last_5  wickets_last_5  total  \n",
       "0     1        0    0.1            1               0    222  \n",
       "1     1        0    0.2            1               0    222  \n",
       "2     2        0    0.2            2               0    222  \n",
       "3     2        0    0.3            2               0    222  \n",
       "4     2        0    0.4            2               0    222  "
      ]
     },
     "execution_count": 16,
     "metadata": {},
     "output_type": "execute_result"
    }
   ],
   "source": [
    "data.head()"
   ]
  },
  {
   "cell_type": "code",
   "execution_count": 17,
   "id": "a73d77f2",
   "metadata": {},
   "outputs": [
    {
     "data": {
      "text/plain": [
       "array([  1,   2,   3,   7,  11,  17,  21,  22,  26,  27,  32,  38,  39,\n",
       "        43,  44,  50,  54,  55,  59,  58,  52,  47,  45,  46,  41,  35,\n",
       "        34,  30,  31,  24,  37,  40,  51,  61,  60,  62,  57,  56,  49,\n",
       "        64,  67,  66,  71,  69,  68,   0,   5,   9,  13,  19,  20,  25,\n",
       "        28,  29,  33,  42,  48,  53,  65,  63,  70,  72,  74,  79,  81,\n",
       "        83,   8,  18,  36,  23,   4,   6,  10,  16,  12,  14,  15,  76,\n",
       "        75,  73,  78,  88,  87,  93,  94,  86,  89,  92,  91,  85,  80,\n",
       "        77,  82,  84,  95, 100, 104, 109, 110, 111, 113, 112], dtype=int64)"
      ]
     },
     "execution_count": 17,
     "metadata": {},
     "output_type": "execute_result"
    }
   ],
   "source": [
    "data.runs_last_5.unique()"
   ]
  },
  {
   "cell_type": "code",
   "execution_count": 18,
   "id": "3a6f64a0",
   "metadata": {},
   "outputs": [
    {
     "name": "stdout",
     "output_type": "stream",
     "text": [
      "Before Removing Overs : (57017, 9)\n",
      "After Removing Overs : (42512, 9)\n"
     ]
    }
   ],
   "source": [
    "##Remove First 5 Overs of every match\n",
    "print(f'Before Removing Overs : {data.shape}')\n",
    "data = data[data['overs'] >= 5.0]\n",
    "print(f'After Removing Overs : {data.shape}')"
   ]
  },
  {
   "cell_type": "code",
   "execution_count": 19,
   "id": "5f6d23e2",
   "metadata": {},
   "outputs": [
    {
     "data": {
      "text/html": [
       "<div>\n",
       "<style scoped>\n",
       "    .dataframe tbody tr th:only-of-type {\n",
       "        vertical-align: middle;\n",
       "    }\n",
       "\n",
       "    .dataframe tbody tr th {\n",
       "        vertical-align: top;\n",
       "    }\n",
       "\n",
       "    .dataframe thead th {\n",
       "        text-align: right;\n",
       "    }\n",
       "</style>\n",
       "<table border=\"1\" class=\"dataframe\">\n",
       "  <thead>\n",
       "    <tr style=\"text-align: right;\">\n",
       "      <th></th>\n",
       "      <th>venue</th>\n",
       "      <th>batting_team</th>\n",
       "      <th>bowling_team</th>\n",
       "      <th>runs</th>\n",
       "      <th>wickets</th>\n",
       "      <th>overs</th>\n",
       "      <th>runs_last_5</th>\n",
       "      <th>wickets_last_5</th>\n",
       "      <th>total</th>\n",
       "    </tr>\n",
       "  </thead>\n",
       "  <tbody>\n",
       "    <tr>\n",
       "      <th>32</th>\n",
       "      <td>M Chinnaswamy Stadium</td>\n",
       "      <td>Kolkata Knight Riders</td>\n",
       "      <td>Royal Challengers Bangalore</td>\n",
       "      <td>61</td>\n",
       "      <td>0</td>\n",
       "      <td>5.1</td>\n",
       "      <td>59</td>\n",
       "      <td>0</td>\n",
       "      <td>222</td>\n",
       "    </tr>\n",
       "    <tr>\n",
       "      <th>33</th>\n",
       "      <td>M Chinnaswamy Stadium</td>\n",
       "      <td>Kolkata Knight Riders</td>\n",
       "      <td>Royal Challengers Bangalore</td>\n",
       "      <td>61</td>\n",
       "      <td>1</td>\n",
       "      <td>5.2</td>\n",
       "      <td>59</td>\n",
       "      <td>1</td>\n",
       "      <td>222</td>\n",
       "    </tr>\n",
       "    <tr>\n",
       "      <th>34</th>\n",
       "      <td>M Chinnaswamy Stadium</td>\n",
       "      <td>Kolkata Knight Riders</td>\n",
       "      <td>Royal Challengers Bangalore</td>\n",
       "      <td>61</td>\n",
       "      <td>1</td>\n",
       "      <td>5.3</td>\n",
       "      <td>59</td>\n",
       "      <td>1</td>\n",
       "      <td>222</td>\n",
       "    </tr>\n",
       "    <tr>\n",
       "      <th>35</th>\n",
       "      <td>M Chinnaswamy Stadium</td>\n",
       "      <td>Kolkata Knight Riders</td>\n",
       "      <td>Royal Challengers Bangalore</td>\n",
       "      <td>61</td>\n",
       "      <td>1</td>\n",
       "      <td>5.4</td>\n",
       "      <td>59</td>\n",
       "      <td>1</td>\n",
       "      <td>222</td>\n",
       "    </tr>\n",
       "    <tr>\n",
       "      <th>36</th>\n",
       "      <td>M Chinnaswamy Stadium</td>\n",
       "      <td>Kolkata Knight Riders</td>\n",
       "      <td>Royal Challengers Bangalore</td>\n",
       "      <td>61</td>\n",
       "      <td>1</td>\n",
       "      <td>5.5</td>\n",
       "      <td>58</td>\n",
       "      <td>1</td>\n",
       "      <td>222</td>\n",
       "    </tr>\n",
       "  </tbody>\n",
       "</table>\n",
       "</div>"
      ],
      "text/plain": [
       "                    venue           batting_team                 bowling_team  \\\n",
       "32  M Chinnaswamy Stadium  Kolkata Knight Riders  Royal Challengers Bangalore   \n",
       "33  M Chinnaswamy Stadium  Kolkata Knight Riders  Royal Challengers Bangalore   \n",
       "34  M Chinnaswamy Stadium  Kolkata Knight Riders  Royal Challengers Bangalore   \n",
       "35  M Chinnaswamy Stadium  Kolkata Knight Riders  Royal Challengers Bangalore   \n",
       "36  M Chinnaswamy Stadium  Kolkata Knight Riders  Royal Challengers Bangalore   \n",
       "\n",
       "    runs  wickets  overs  runs_last_5  wickets_last_5  total  \n",
       "32    61        0    5.1           59               0    222  \n",
       "33    61        1    5.2           59               1    222  \n",
       "34    61        1    5.3           59               1    222  \n",
       "35    61        1    5.4           59               1    222  \n",
       "36    61        1    5.5           58               1    222  "
      ]
     },
     "execution_count": 19,
     "metadata": {},
     "output_type": "execute_result"
    }
   ],
   "source": [
    "data.head()"
   ]
  },
  {
   "cell_type": "code",
   "execution_count": 20,
   "id": "f5c475fc",
   "metadata": {},
   "outputs": [
    {
     "data": {
      "image/png": "[encoded data removed]",
      "text/plain": [
       "<Figure size 720x720 with 2 Axes>"
      ]
     },
     "metadata": {
      "needs_background": "light"
     },
     "output_type": "display_data"
    }
   ],
   "source": [
    "from seaborn import heatmap\n",
    "plt.figure(figsize=(10, 10))\n",
    "heatmap(data=data.corr(),annot=True);"
   ]
  },
  {
   "cell_type": "code",
   "execution_count": 21,
   "id": "6aa47f86",
   "metadata": {},
   "outputs": [
    {
     "data": {
      "text/plain": [
       "Index(['venue', 'batting_team', 'bowling_team'], dtype='object')"
      ]
     },
     "execution_count": 21,
     "metadata": {},
     "output_type": "execute_result"
    }
   ],
   "source": [
    "cat_feat.columns"
   ]
  },
  {
   "cell_type": "code",
   "execution_count": 22,
   "id": "8fa927ed",
   "metadata": {},
   "outputs": [],
   "source": [
    "encode_data = data.copy()"
   ]
  },
  {
   "cell_type": "code",
   "execution_count": 23,
   "id": "ebcbc8a0",
   "metadata": {},
   "outputs": [],
   "source": [
    "##performing Label Encoding\n",
    "from sklearn.preprocessing import LabelEncoder,OneHotEncoder\n",
    "le=LabelEncoder()\n",
    "columns = ['venue']\n",
    "for col in columns:\n",
    "    encode_data[col]=le.fit_transform(encode_data[col])"
   ]
  },
  {
   "cell_type": "code",
   "execution_count": 24,
   "id": "a1f2eec4",
   "metadata": {},
   "outputs": [
    {
     "data": {
      "text/plain": [
       "array(['M Chinnaswamy Stadium',\n",
       "       'Punjab Cricket Association Stadium, Mohali', 'Feroz Shah Kotla',\n",
       "       'Wankhede Stadium', 'Sawai Mansingh Stadium',\n",
       "       'MA Chidambaram Stadium, Chepauk', 'Eden Gardens',\n",
       "       'Dr DY Patil Sports Academy', 'Newlands', \"St George's Park\",\n",
       "       'Kingsmead', 'SuperSport Park', 'Buffalo Park',\n",
       "       'New Wanderers Stadium', 'De Beers Diamond Oval',\n",
       "       'OUTsurance Oval', 'Brabourne Stadium',\n",
       "       'Sardar Patel Stadium, Motera',\n",
       "       'Himachal Pradesh Cricket Association Stadium',\n",
       "       'Subrata Roy Sahara Stadium',\n",
       "       'Rajiv Gandhi International Stadium, Uppal',\n",
       "       'Shaheed Veer Narayan Singh International Stadium',\n",
       "       'JSCA International Stadium Complex', 'Sheikh Zayed Stadium',\n",
       "       'Sharjah Cricket Stadium', 'Dubai International Cricket Stadium',\n",
       "       'Barabati Stadium', 'Maharashtra Cricket Association Stadium',\n",
       "       'Dr. Y.S. Rajasekhara Reddy ACA-VDCA Cricket Stadium',\n",
       "       'Punjab Cricket Association IS Bindra Stadium, Mohali',\n",
       "       'Saurashtra Cricket Association Stadium', 'Green Park',\n",
       "       'Holkar Cricket Stadium'], dtype=object)"
      ]
     },
     "execution_count": 24,
     "metadata": {},
     "output_type": "execute_result"
    }
   ],
   "source": [
    "data.venue.unique()"
   ]
  },
  {
   "cell_type": "code",
   "execution_count": 25,
   "id": "b91827fd",
   "metadata": {},
   "outputs": [
    {
     "data": {
      "text/plain": [
       "array([14, 21,  8, 32, 25, 15,  7,  4, 18, 29, 13, 31,  2, 17,  3, 19,  1,\n",
       "       23, 10, 30, 22, 26, 12, 28, 27,  6,  0, 16,  5, 20, 24,  9, 11])"
      ]
     },
     "execution_count": 25,
     "metadata": {},
     "output_type": "execute_result"
    }
   ],
   "source": [
    "encode_data.venue.unique()"
   ]
  },
  {
   "cell_type": "code",
   "execution_count": 26,
   "id": "8d3a2478",
   "metadata": {},
   "outputs": [
    {
     "data": {
      "text/html": [
       "<div>\n",
       "<style scoped>\n",
       "    .dataframe tbody tr th:only-of-type {\n",
       "        vertical-align: middle;\n",
       "    }\n",
       "\n",
       "    .dataframe tbody tr th {\n",
       "        vertical-align: top;\n",
       "    }\n",
       "\n",
       "    .dataframe thead th {\n",
       "        text-align: right;\n",
       "    }\n",
       "</style>\n",
       "<table border=\"1\" class=\"dataframe\">\n",
       "  <thead>\n",
       "    <tr style=\"text-align: right;\">\n",
       "      <th></th>\n",
       "      <th>venue</th>\n",
       "      <th>batting_team</th>\n",
       "      <th>bowling_team</th>\n",
       "      <th>runs</th>\n",
       "      <th>wickets</th>\n",
       "      <th>overs</th>\n",
       "      <th>runs_last_5</th>\n",
       "      <th>wickets_last_5</th>\n",
       "      <th>total</th>\n",
       "    </tr>\n",
       "  </thead>\n",
       "  <tbody>\n",
       "    <tr>\n",
       "      <th>32</th>\n",
       "      <td>14</td>\n",
       "      <td>Kolkata Knight Riders</td>\n",
       "      <td>Royal Challengers Bangalore</td>\n",
       "      <td>61</td>\n",
       "      <td>0</td>\n",
       "      <td>5.1</td>\n",
       "      <td>59</td>\n",
       "      <td>0</td>\n",
       "      <td>222</td>\n",
       "    </tr>\n",
       "    <tr>\n",
       "      <th>33</th>\n",
       "      <td>14</td>\n",
       "      <td>Kolkata Knight Riders</td>\n",
       "      <td>Royal Challengers Bangalore</td>\n",
       "      <td>61</td>\n",
       "      <td>1</td>\n",
       "      <td>5.2</td>\n",
       "      <td>59</td>\n",
       "      <td>1</td>\n",
       "      <td>222</td>\n",
       "    </tr>\n",
       "    <tr>\n",
       "      <th>34</th>\n",
       "      <td>14</td>\n",
       "      <td>Kolkata Knight Riders</td>\n",
       "      <td>Royal Challengers Bangalore</td>\n",
       "      <td>61</td>\n",
       "      <td>1</td>\n",
       "      <td>5.3</td>\n",
       "      <td>59</td>\n",
       "      <td>1</td>\n",
       "      <td>222</td>\n",
       "    </tr>\n",
       "    <tr>\n",
       "      <th>35</th>\n",
       "      <td>14</td>\n",
       "      <td>Kolkata Knight Riders</td>\n",
       "      <td>Royal Challengers Bangalore</td>\n",
       "      <td>61</td>\n",
       "      <td>1</td>\n",
       "      <td>5.4</td>\n",
       "      <td>59</td>\n",
       "      <td>1</td>\n",
       "      <td>222</td>\n",
       "    </tr>\n",
       "    <tr>\n",
       "      <th>36</th>\n",
       "      <td>14</td>\n",
       "      <td>Kolkata Knight Riders</td>\n",
       "      <td>Royal Challengers Bangalore</td>\n",
       "      <td>61</td>\n",
       "      <td>1</td>\n",
       "      <td>5.5</td>\n",
       "      <td>58</td>\n",
       "      <td>1</td>\n",
       "      <td>222</td>\n",
       "    </tr>\n",
       "  </tbody>\n",
       "</table>\n",
       "</div>"
      ],
      "text/plain": [
       "    venue           batting_team                 bowling_team  runs  wickets  \\\n",
       "32     14  Kolkata Knight Riders  Royal Challengers Bangalore    61        0   \n",
       "33     14  Kolkata Knight Riders  Royal Challengers Bangalore    61        1   \n",
       "34     14  Kolkata Knight Riders  Royal Challengers Bangalore    61        1   \n",
       "35     14  Kolkata Knight Riders  Royal Challengers Bangalore    61        1   \n",
       "36     14  Kolkata Knight Riders  Royal Challengers Bangalore    61        1   \n",
       "\n",
       "    overs  runs_last_5  wickets_last_5  total  \n",
       "32    5.1           59               0    222  \n",
       "33    5.2           59               1    222  \n",
       "34    5.3           59               1    222  \n",
       "35    5.4           59               1    222  \n",
       "36    5.5           58               1    222  "
      ]
     },
     "execution_count": 26,
     "metadata": {},
     "output_type": "execute_result"
    }
   ],
   "source": [
    "encode_data.head()"
   ]
  },
  {
   "cell_type": "code",
   "execution_count": 27,
   "id": "4a448d07",
   "metadata": {},
   "outputs": [
    {
     "data": {
      "text/html": [
       "<div>\n",
       "<style scoped>\n",
       "    .dataframe tbody tr th:only-of-type {\n",
       "        vertical-align: middle;\n",
       "    }\n",
       "\n",
       "    .dataframe tbody tr th {\n",
       "        vertical-align: top;\n",
       "    }\n",
       "\n",
       "    .dataframe thead th {\n",
       "        text-align: right;\n",
       "    }\n",
       "</style>\n",
       "<table border=\"1\" class=\"dataframe\">\n",
       "  <thead>\n",
       "    <tr style=\"text-align: right;\">\n",
       "      <th></th>\n",
       "      <th>venue</th>\n",
       "      <th>runs</th>\n",
       "      <th>wickets</th>\n",
       "      <th>overs</th>\n",
       "      <th>runs_last_5</th>\n",
       "      <th>wickets_last_5</th>\n",
       "      <th>total</th>\n",
       "      <th>batting_team_Delhi Daredevils</th>\n",
       "      <th>batting_team_Gujarat Lions</th>\n",
       "      <th>batting_team_Kings XI Punjab</th>\n",
       "      <th>...</th>\n",
       "      <th>batting_team_Royal Challengers Bangalore</th>\n",
       "      <th>batting_team_Sunrisers Hyderabad</th>\n",
       "      <th>bowling_team_Delhi Daredevils</th>\n",
       "      <th>bowling_team_Gujarat Lions</th>\n",
       "      <th>bowling_team_Kings XI Punjab</th>\n",
       "      <th>bowling_team_Kolkata Knight Riders</th>\n",
       "      <th>bowling_team_Mumbai Indians</th>\n",
       "      <th>bowling_team_Rajasthan Royals</th>\n",
       "      <th>bowling_team_Royal Challengers Bangalore</th>\n",
       "      <th>bowling_team_Sunrisers Hyderabad</th>\n",
       "    </tr>\n",
       "  </thead>\n",
       "  <tbody>\n",
       "    <tr>\n",
       "      <th>32</th>\n",
       "      <td>14</td>\n",
       "      <td>61</td>\n",
       "      <td>0</td>\n",
       "      <td>5.1</td>\n",
       "      <td>59</td>\n",
       "      <td>0</td>\n",
       "      <td>222</td>\n",
       "      <td>0</td>\n",
       "      <td>0</td>\n",
       "      <td>0</td>\n",
       "      <td>...</td>\n",
       "      <td>0</td>\n",
       "      <td>0</td>\n",
       "      <td>0</td>\n",
       "      <td>0</td>\n",
       "      <td>0</td>\n",
       "      <td>0</td>\n",
       "      <td>0</td>\n",
       "      <td>0</td>\n",
       "      <td>1</td>\n",
       "      <td>0</td>\n",
       "    </tr>\n",
       "    <tr>\n",
       "      <th>33</th>\n",
       "      <td>14</td>\n",
       "      <td>61</td>\n",
       "      <td>1</td>\n",
       "      <td>5.2</td>\n",
       "      <td>59</td>\n",
       "      <td>1</td>\n",
       "      <td>222</td>\n",
       "      <td>0</td>\n",
       "      <td>0</td>\n",
       "      <td>0</td>\n",
       "      <td>...</td>\n",
       "      <td>0</td>\n",
       "      <td>0</td>\n",
       "      <td>0</td>\n",
       "      <td>0</td>\n",
       "      <td>0</td>\n",
       "      <td>0</td>\n",
       "      <td>0</td>\n",
       "      <td>0</td>\n",
       "      <td>1</td>\n",
       "      <td>0</td>\n",
       "    </tr>\n",
       "    <tr>\n",
       "      <th>34</th>\n",
       "      <td>14</td>\n",
       "      <td>61</td>\n",
       "      <td>1</td>\n",
       "      <td>5.3</td>\n",
       "      <td>59</td>\n",
       "      <td>1</td>\n",
       "      <td>222</td>\n",
       "      <td>0</td>\n",
       "      <td>0</td>\n",
       "      <td>0</td>\n",
       "      <td>...</td>\n",
       "      <td>0</td>\n",
       "      <td>0</td>\n",
       "      <td>0</td>\n",
       "      <td>0</td>\n",
       "      <td>0</td>\n",
       "      <td>0</td>\n",
       "      <td>0</td>\n",
       "      <td>0</td>\n",
       "      <td>1</td>\n",
       "      <td>0</td>\n",
       "    </tr>\n",
       "    <tr>\n",
       "      <th>35</th>\n",
       "      <td>14</td>\n",
       "      <td>61</td>\n",
       "      <td>1</td>\n",
       "      <td>5.4</td>\n",
       "      <td>59</td>\n",
       "      <td>1</td>\n",
       "      <td>222</td>\n",
       "      <td>0</td>\n",
       "      <td>0</td>\n",
       "      <td>0</td>\n",
       "      <td>...</td>\n",
       "      <td>0</td>\n",
       "      <td>0</td>\n",
       "      <td>0</td>\n",
       "      <td>0</td>\n",
       "      <td>0</td>\n",
       "      <td>0</td>\n",
       "      <td>0</td>\n",
       "      <td>0</td>\n",
       "      <td>1</td>\n",
       "      <td>0</td>\n",
       "    </tr>\n",
       "    <tr>\n",
       "      <th>36</th>\n",
       "      <td>14</td>\n",
       "      <td>61</td>\n",
       "      <td>1</td>\n",
       "      <td>5.5</td>\n",
       "      <td>58</td>\n",
       "      <td>1</td>\n",
       "      <td>222</td>\n",
       "      <td>0</td>\n",
       "      <td>0</td>\n",
       "      <td>0</td>\n",
       "      <td>...</td>\n",
       "      <td>0</td>\n",
       "      <td>0</td>\n",
       "      <td>0</td>\n",
       "      <td>0</td>\n",
       "      <td>0</td>\n",
       "      <td>0</td>\n",
       "      <td>0</td>\n",
       "      <td>0</td>\n",
       "      <td>1</td>\n",
       "      <td>0</td>\n",
       "    </tr>\n",
       "  </tbody>\n",
       "</table>\n",
       "<p>5 rows × 23 columns</p>\n",
       "</div>"
      ],
      "text/plain": [
       "    venue  runs  wickets  overs  runs_last_5  wickets_last_5  total  \\\n",
       "32     14    61        0    5.1           59               0    222   \n",
       "33     14    61        1    5.2           59               1    222   \n",
       "34     14    61        1    5.3           59               1    222   \n",
       "35     14    61        1    5.4           59               1    222   \n",
       "36     14    61        1    5.5           58               1    222   \n",
       "\n",
       "    batting_team_Delhi Daredevils  batting_team_Gujarat Lions  \\\n",
       "32                              0                           0   \n",
       "33                              0                           0   \n",
       "34                              0                           0   \n",
       "35                              0                           0   \n",
       "36                              0                           0   \n",
       "\n",
       "    batting_team_Kings XI Punjab  ...  \\\n",
       "32                             0  ...   \n",
       "33                             0  ...   \n",
       "34                             0  ...   \n",
       "35                             0  ...   \n",
       "36                             0  ...   \n",
       "\n",
       "    batting_team_Royal Challengers Bangalore  \\\n",
       "32                                         0   \n",
       "33                                         0   \n",
       "34                                         0   \n",
       "35                                         0   \n",
       "36                                         0   \n",
       "\n",
       "    batting_team_Sunrisers Hyderabad  bowling_team_Delhi Daredevils  \\\n",
       "32                                 0                              0   \n",
       "33                                 0                              0   \n",
       "34                                 0                              0   \n",
       "35                                 0                              0   \n",
       "36                                 0                              0   \n",
       "\n",
       "    bowling_team_Gujarat Lions  bowling_team_Kings XI Punjab  \\\n",
       "32                           0                             0   \n",
       "33                           0                             0   \n",
       "34                           0                             0   \n",
       "35                           0                             0   \n",
       "36                           0                             0   \n",
       "\n",
       "    bowling_team_Kolkata Knight Riders  bowling_team_Mumbai Indians  \\\n",
       "32                                   0                            0   \n",
       "33                                   0                            0   \n",
       "34                                   0                            0   \n",
       "35                                   0                            0   \n",
       "36                                   0                            0   \n",
       "\n",
       "    bowling_team_Rajasthan Royals  bowling_team_Royal Challengers Bangalore  \\\n",
       "32                              0                                         1   \n",
       "33                              0                                         1   \n",
       "34                              0                                         1   \n",
       "35                              0                                         1   \n",
       "36                              0                                         1   \n",
       "\n",
       "    bowling_team_Sunrisers Hyderabad  \n",
       "32                                 0  \n",
       "33                                 0  \n",
       "34                                 0  \n",
       "35                                 0  \n",
       "36                                 0  \n",
       "\n",
       "[5 rows x 23 columns]"
      ]
     },
     "execution_count": 27,
     "metadata": {},
     "output_type": "execute_result"
    }
   ],
   "source": [
    "encoded_data = pd.get_dummies(encode_data, columns=['batting_team', 'bowling_team'], drop_first=True)\n",
    "encoded_data.head()"
   ]
  },
  {
   "cell_type": "code",
   "execution_count": 28,
   "id": "8aa2dfdb",
   "metadata": {},
   "outputs": [],
   "source": [
    "final_data = encoded_data.copy()"
   ]
  },
  {
   "cell_type": "code",
   "execution_count": 29,
   "id": "93a7edd5",
   "metadata": {},
   "outputs": [],
   "source": [
    "##Model Building\n",
    "##Prepare Train and Test Splits\n",
    "X = final_data.drop(['total'], axis=1)\n",
    "y = final_data['total']"
   ]
  },
  {
   "cell_type": "code",
   "execution_count": 30,
   "id": "ecec2b41",
   "metadata": {},
   "outputs": [],
   "source": [
    "# Perform 80 : 20 Train-Test split\n",
    "from sklearn.model_selection import train_test_split\n",
    "X_train, X_test, y_train, y_test = train_test_split(X, y, test_size=0.2, random_state=42)"
   ]
  },
  {
   "cell_type": "code",
   "execution_count": 31,
   "id": "bc86ac39",
   "metadata": {},
   "outputs": [
    {
     "name": "stdout",
     "output_type": "stream",
     "text": [
      "Training Set : (34009, 22)\n"
     ]
    }
   ],
   "source": [
    "print(f\"Training Set : {X_train.shape}\")"
   ]
  },
  {
   "cell_type": "code",
   "execution_count": 32,
   "id": "b9547c0c",
   "metadata": {},
   "outputs": [
    {
     "name": "stdout",
     "output_type": "stream",
     "text": [
      "Testing Set : (34009,)\n"
     ]
    }
   ],
   "source": [
    "print(f\"Testing Set : {y_train.shape}\")"
   ]
  },
  {
   "cell_type": "code",
   "execution_count": 33,
   "id": "e02be005",
   "metadata": {},
   "outputs": [],
   "source": [
    "# Keeping track of model perfomances\n",
    "models = dict()"
   ]
  },
  {
   "cell_type": "code",
   "execution_count": 34,
   "id": "cef55431",
   "metadata": {},
   "outputs": [],
   "source": [
    "##Decision tree Regressor\n",
    "from sklearn.tree import DecisionTreeRegressor\n",
    "tree = DecisionTreeRegressor()"
   ]
  },
  {
   "cell_type": "code",
   "execution_count": 35,
   "id": "f5d20a55",
   "metadata": {},
   "outputs": [
    {
     "data": {
      "text/plain": [
       "DecisionTreeRegressor()"
      ]
     },
     "execution_count": 35,
     "metadata": {},
     "output_type": "execute_result"
    }
   ],
   "source": [
    "# Train Model\n",
    "tree.fit(X_train, y_train)"
   ]
  },
  {
   "cell_type": "code",
   "execution_count": 36,
   "id": "8327a2c1",
   "metadata": {},
   "outputs": [],
   "source": [
    "# Predictions\n",
    "y_pred = tree.predict(X_test)"
   ]
  },
  {
   "cell_type": "code",
   "execution_count": 37,
   "id": "300740c9",
   "metadata": {},
   "outputs": [],
   "source": [
    "# Evaluate Model\n",
    "train_score_tree = str(tree.score(X_train,y_train) * 100)\n",
    "test_score_tree = str(tree.score(X_test, y_test) * 100)"
   ]
  },
  {
   "cell_type": "code",
   "execution_count": 38,
   "id": "619d42c5",
   "metadata": {},
   "outputs": [
    {
     "name": "stdout",
     "output_type": "stream",
     "text": [
      "Train Score : 99.99%\n",
      "Test Score : 89.98%\n"
     ]
    }
   ],
   "source": [
    "print(f'Train Score : {train_score_tree[:5]}%\\nTest Score : {test_score_tree[:5]}%')"
   ]
  },
  {
   "cell_type": "code",
   "execution_count": 39,
   "id": "beadc015",
   "metadata": {},
   "outputs": [],
   "source": [
    "models[\"tree\"] = test_score_tree"
   ]
  },
  {
   "cell_type": "code",
   "execution_count": 40,
   "id": "adb3f247",
   "metadata": {},
   "outputs": [],
   "source": [
    "from sklearn.metrics import mean_absolute_error,mean_squared_error"
   ]
  },
  {
   "cell_type": "code",
   "execution_count": 41,
   "id": "3581b1ea",
   "metadata": {},
   "outputs": [
    {
     "name": "stdout",
     "output_type": "stream",
     "text": [
      "---- Decision Tree Regressor - Model Evaluation ----\n",
      "Mean Absolute Error (MAE): 2.872103963307068\n",
      "Mean Squared Error (MSE): 87.93252381512407\n",
      "Root Mean Squared Error (RMSE): 9.377234337219267\n"
     ]
    }
   ],
   "source": [
    "from sklearn.metrics import mean_absolute_error as mae, mean_squared_error as mse\n",
    "print(\"---- Decision Tree Regressor - Model Evaluation ----\")\n",
    "print(\"Mean Absolute Error (MAE): {}\".format(mae(y_test, y_pred)))\n",
    "print(\"Mean Squared Error (MSE): {}\".format(mse(y_test, y_pred)))\n",
    "print(\"Root Mean Squared Error (RMSE): {}\".format(np.sqrt(mse(y_test, y_pred))))"
   ]
  },
  {
   "cell_type": "code",
   "execution_count": 42,
   "id": "b071237f",
   "metadata": {},
   "outputs": [
    {
     "data": {
      "text/plain": [
       "LinearRegression()"
      ]
     },
     "execution_count": 42,
     "metadata": {},
     "output_type": "execute_result"
    }
   ],
   "source": [
    "##Linear Regression\n",
    "from sklearn.linear_model import LinearRegression\n",
    "lin_reg = LinearRegression()\n",
    "# Train Model\n",
    "lin_reg.fit(X_train,y_train)"
   ]
  },
  {
   "cell_type": "code",
   "execution_count": 43,
   "id": "593ba67e",
   "metadata": {},
   "outputs": [],
   "source": [
    "# Predictions\n",
    "y_pred_lin_reg = lin_reg.predict(X_test)"
   ]
  },
  {
   "cell_type": "code",
   "execution_count": 44,
   "id": "bcae82d1",
   "metadata": {},
   "outputs": [
    {
     "name": "stdout",
     "output_type": "stream",
     "text": [
      "Train Score : 65.40% \n",
      "Test Score : 66.43%\n"
     ]
    }
   ],
   "source": [
    "# Evaluate Model\n",
    "train_score_lin_reg = str(lin_reg.score(X_train, y_train) * 100)\n",
    "test_score_lin_reg = str(lin_reg.score(X_test, y_test) * 100)\n",
    "print(f'Train Score : {train_score_lin_reg[:5]}% \\nTest Score : {test_score_lin_reg[:5]}%')\n",
    "models[\"lin_reg\"] = test_score_lin_reg"
   ]
  },
  {
   "cell_type": "code",
   "execution_count": 45,
   "id": "592de2f3",
   "metadata": {},
   "outputs": [
    {
     "data": {
      "text/plain": [
       "'66.43'"
      ]
     },
     "execution_count": 45,
     "metadata": {},
     "output_type": "execute_result"
    }
   ],
   "source": [
    "test_score_lin_reg[:5]"
   ]
  },
  {
   "cell_type": "code",
   "execution_count": 46,
   "id": "44f99b8c",
   "metadata": {},
   "outputs": [
    {
     "data": {
      "text/plain": [
       "'66.43274958837692'"
      ]
     },
     "execution_count": 46,
     "metadata": {},
     "output_type": "execute_result"
    }
   ],
   "source": [
    "test_score_lin_reg"
   ]
  },
  {
   "cell_type": "code",
   "execution_count": 47,
   "id": "34cdd655",
   "metadata": {},
   "outputs": [
    {
     "name": "stdout",
     "output_type": "stream",
     "text": [
      "---- Linear Regression - Model Evaluation ----\n",
      "Mean Absolute Error (MAE): 12.852144034317227\n",
      "Mean Squared Error (MSE): 294.6182827782822\n",
      "Root Mean Squared Error (RMSE): 17.164448222365966\n"
     ]
    }
   ],
   "source": [
    "print(\"---- Linear Regression - Model Evaluation ----\")\n",
    "print(\"Mean Absolute Error (MAE): {}\".format(mae(y_test, y_pred_lin_reg)))\n",
    "print(\"Mean Squared Error (MSE): {}\".format(mse(y_test, y_pred_lin_reg)))\n",
    "print(\"Root Mean Squared Error (RMSE): {}\".format(np.sqrt(mse(y_test, y_pred_lin_reg))))"
   ]
  },
  {
   "cell_type": "code",
   "execution_count": 48,
   "id": "6b96d87f",
   "metadata": {},
   "outputs": [
    {
     "data": {
      "text/plain": [
       "RandomForestRegressor()"
      ]
     },
     "execution_count": 48,
     "metadata": {},
     "output_type": "execute_result"
    }
   ],
   "source": [
    "##Random Forest Regression\n",
    "from sklearn.ensemble import RandomForestRegressor\n",
    "forest_reg = RandomForestRegressor()\n",
    "# Train Model\n",
    "forest_reg.fit(X_train,y_train)"
   ]
  },
  {
   "cell_type": "code",
   "execution_count": 49,
   "id": "f15fbeb9",
   "metadata": {},
   "outputs": [],
   "source": [
    "# Predictions\n",
    "y_pred_forest_reg = forest_reg.predict(X_test)"
   ]
  },
  {
   "cell_type": "code",
   "execution_count": 50,
   "id": "5ac35f6e",
   "metadata": {},
   "outputs": [
    {
     "name": "stdout",
     "output_type": "stream",
     "text": [
      "Train Score : 99.43%\n",
      "Test Score : 95.89%\n"
     ]
    }
   ],
   "source": [
    "# Evaluate Model\n",
    "train_score_forest = str(forest_reg.score(X_train, y_train)*100)\n",
    "test_score_forest = str(forest_reg.score(X_test, y_test)*100)\n",
    "print(f'Train Score : {train_score_forest[:5]}%\\nTest Score : {test_score_forest[:5]}%')\n",
    "models[\"forest_reg\"] = test_score_forest"
   ]
  },
  {
   "cell_type": "code",
   "execution_count": 51,
   "id": "23580188",
   "metadata": {},
   "outputs": [
    {
     "name": "stdout",
     "output_type": "stream",
     "text": [
      "---- Random Forest Regression - Model Evaluation ----\n",
      "Mean Absolute Error (MAE): 3.319385981418323\n",
      "Mean Squared Error (MSE): 36.06991558817803\n",
      "Root Mean Squared Error (RMSE): 6.005823472945074\n"
     ]
    }
   ],
   "source": [
    "print(\"---- Random Forest Regression - Model Evaluation ----\")\n",
    "print(\"Mean Absolute Error (MAE): {}\".format(mae(y_test, y_pred_forest_reg)))\n",
    "print(\"Mean Squared Error (MSE): {}\".format(mse(y_test, y_pred_forest_reg)))\n",
    "print(\"Root Mean Squared Error (RMSE): {}\".format(np.sqrt(mse(y_test, y_pred_forest_reg))))"
   ]
  },
  {
   "cell_type": "code",
   "execution_count": 52,
   "id": "f1c16849",
   "metadata": {},
   "outputs": [
    {
     "data": {
      "text/plain": [
       "LassoCV()"
      ]
     },
     "execution_count": 52,
     "metadata": {},
     "output_type": "execute_result"
    }
   ],
   "source": [
    "##Lasso Regression\n",
    "from sklearn.linear_model import LassoCV\n",
    "lasso_reg = LassoCV()\n",
    "# Train Model\n",
    "lasso_reg.fit(X_train,y_train)"
   ]
  },
  {
   "cell_type": "code",
   "execution_count": 53,
   "id": "65916376",
   "metadata": {},
   "outputs": [],
   "source": [
    "# Predictions\n",
    "y_pred_lasso_reg = lasso_reg.predict(X_test)"
   ]
  },
  {
   "cell_type": "code",
   "execution_count": 54,
   "id": "d0b6e031",
   "metadata": {},
   "outputs": [
    {
     "name": "stdout",
     "output_type": "stream",
     "text": [
      "Train Score : 64.29%\n",
      "Test Score : 65.32%\n"
     ]
    }
   ],
   "source": [
    "# Evaluate Model\n",
    "train_score_lasso = str(lasso_reg.score(X_train,y_train)*100)\n",
    "test_score_lasso = str(lasso_reg.score(X_test,y_test)*100)\n",
    "print(f'Train Score : {train_score_lasso[:5]}%\\nTest Score : {test_score_lasso[:5]}%')\n",
    "models[\"lasso_reg\"] = test_score_lasso"
   ]
  },
  {
   "cell_type": "code",
   "execution_count": 55,
   "id": "24ccd49c",
   "metadata": {},
   "outputs": [
    {
     "name": "stdout",
     "output_type": "stream",
     "text": [
      "---- Lasso Regression - Model Evaluation ----\n",
      "Mean Absolute Error (MAE): 12.917451782689064\n",
      "Mean Squared Error (MSE): 304.3748399374997\n",
      "Root Mean Squared Error (RMSE): 17.446341735088755\n"
     ]
    }
   ],
   "source": [
    "print(\"---- Lasso Regression - Model Evaluation ----\")\n",
    "print(\"Mean Absolute Error (MAE): {}\".format(mae(y_test, y_pred_lasso_reg)))\n",
    "print(\"Mean Squared Error (MSE): {}\".format(mse(y_test, y_pred_lasso_reg)))\n",
    "print(\"Root Mean Squared Error (RMSE): {}\".format(np.sqrt(mse(y_test, y_pred_lasso_reg))))"
   ]
  },
  {
   "cell_type": "code",
   "execution_count": 56,
   "id": "fc5fa928",
   "metadata": {},
   "outputs": [
    {
     "data": {
      "text/plain": [
       "SVR()"
      ]
     },
     "execution_count": 56,
     "metadata": {},
     "output_type": "execute_result"
    }
   ],
   "source": [
    "##Support Vector Machine\n",
    "from sklearn.svm import SVR\n",
    "sv_reg = SVR()\n",
    "# Train Model\n",
    "sv_reg.fit(X_train,y_train)"
   ]
  },
  {
   "cell_type": "code",
   "execution_count": 57,
   "id": "7604dcd4",
   "metadata": {},
   "outputs": [],
   "source": [
    "# Predictions\n",
    "y_pred_sv_reg = sv_reg.predict(X_test)"
   ]
  },
  {
   "cell_type": "code",
   "execution_count": 58,
   "id": "bb886b98",
   "metadata": {},
   "outputs": [
    {
     "name": "stdout",
     "output_type": "stream",
     "text": [
      "Train Score : 57.26%\n",
      "Test Score : 58.30%\n"
     ]
    }
   ],
   "source": [
    "train_score_svm = str(sv_reg.score(X_train,y_train)*100)\n",
    "test_score_svm = str(sv_reg.score(X_test,y_test)*100)\n",
    "print(f'Train Score : {train_score_svm[:5]}%\\nTest Score : {test_score_svm[:5]}%')\n",
    "models[\"sv_reg\"] = test_score_svm "
   ]
  },
  {
   "cell_type": "code",
   "execution_count": 59,
   "id": "63152bf5",
   "metadata": {},
   "outputs": [
    {
     "name": "stdout",
     "output_type": "stream",
     "text": [
      "---- Support Vector Regression - Model Evaluation ----\n",
      "Mean Absolute Error (MAE): 14.418128568321315\n",
      "Mean Squared Error (MSE): 365.97853843900714\n",
      "Root Mean Squared Error (RMSE): 19.13056555460416\n"
     ]
    }
   ],
   "source": [
    "print(\"---- Support Vector Regression - Model Evaluation ----\")\n",
    "print(\"Mean Absolute Error (MAE): {}\".format(mae(y_test, y_pred_sv_reg)))\n",
    "print(\"Mean Squared Error (MSE): {}\".format(mse(y_test, y_pred_sv_reg)))\n",
    "print(\"Root Mean Squared Error (RMSE): {}\".format(np.sqrt(mse(y_test, y_pred_sv_reg))))"
   ]
  },
  {
   "cell_type": "code",
   "execution_count": 60,
   "id": "35b2093c",
   "metadata": {},
   "outputs": [
    {
     "data": {
      "text/plain": [
       "MLPRegressor(activation='logistic', max_iter=500)"
      ]
     },
     "execution_count": 60,
     "metadata": {},
     "output_type": "execute_result"
    }
   ],
   "source": [
    "##Neural Networks\n",
    "from sklearn.neural_network import MLPRegressor\n",
    "neural_net = MLPRegressor(activation='logistic', max_iter=500)\n",
    "# Train Model\n",
    "neural_net.fit(X_train,y_train)"
   ]
  },
  {
   "cell_type": "code",
   "execution_count": 61,
   "id": "a1db13ff",
   "metadata": {},
   "outputs": [
    {
     "name": "stdout",
     "output_type": "stream",
     "text": [
      "Train Score : 90.13%\n",
      "Test Score : 89.31%\n"
     ]
    }
   ],
   "source": [
    "train_score_neural_net = str(neural_net.score(X_train,y_train)*100)\n",
    "test_score_neural_net = str(neural_net.score(X_test,y_test)*100)\n",
    "print(f'Train Score : {train_score_neural_net[:5]}%\\nTest Score : {test_score_neural_net[:5]}%')\n",
    "models[\"neural_net\"] = test_score_neural_net "
   ]
  },
  {
   "cell_type": "code",
   "execution_count": 62,
   "id": "3d04c3e4",
   "metadata": {},
   "outputs": [],
   "source": [
    "# Predictions\n",
    "y_pred_neural = neural_net.predict(X_test)"
   ]
  },
  {
   "cell_type": "code",
   "execution_count": 63,
   "id": "327a8bec",
   "metadata": {},
   "outputs": [
    {
     "name": "stdout",
     "output_type": "stream",
     "text": [
      "---- Neural Networks Regression - Model Evaluation ----\n",
      "Mean Absolute Error (MAE): 6.754460965426468\n",
      "Mean Squared Error (MSE): 93.7429189585056\n",
      "Root Mean Squared Error (RMSE): 9.682092695203119\n"
     ]
    }
   ],
   "source": [
    "print(\"---- Neural Networks Regression - Model Evaluation ----\")\n",
    "print(\"Mean Absolute Error (MAE): {}\".format(mae(y_test, y_pred_neural)))\n",
    "print(\"Mean Squared Error (MSE): {}\".format(mse(y_test, y_pred_neural)))\n",
    "print(\"Root Mean Squared Error (RMSE): {}\".format(np.sqrt(mse(y_test, y_pred_neural))))"
   ]
  },
  {
   "cell_type": "code",
   "execution_count": 64,
   "id": "2fda4cab",
   "metadata": {},
   "outputs": [
    {
     "data": {
      "text/plain": [
       "<AxesSubplot:>"
      ]
     },
     "execution_count": 64,
     "metadata": {},
     "output_type": "execute_result"
    },
    {
     "data": {
      "image/png": "[encoded data removed]",
      "text/plain": [
       "<Figure size 432x288 with 1 Axes>"
      ]
     },
     "metadata": {
      "needs_background": "light"
     },
     "output_type": "display_data"
    }
   ],
   "source": [
    "##Best Model Selection\n",
    "from seaborn import barplot\n",
    "model_names = list(models.keys())\n",
    "accuracy = list(map(float, models.values()))\n",
    "barplot(model_names, accuracy)"
   ]
  },
  {
   "cell_type": "code",
   "execution_count": 65,
   "id": "bfd9b332",
   "metadata": {},
   "outputs": [
    {
     "data": {
      "text/html": [
       "<div>\n",
       "<style scoped>\n",
       "    .dataframe tbody tr th:only-of-type {\n",
       "        vertical-align: middle;\n",
       "    }\n",
       "\n",
       "    .dataframe tbody tr th {\n",
       "        vertical-align: top;\n",
       "    }\n",
       "\n",
       "    .dataframe thead th {\n",
       "        text-align: right;\n",
       "    }\n",
       "</style>\n",
       "<table border=\"1\" class=\"dataframe\">\n",
       "  <thead>\n",
       "    <tr style=\"text-align: right;\">\n",
       "      <th></th>\n",
       "      <th>venue</th>\n",
       "      <th>runs</th>\n",
       "      <th>wickets</th>\n",
       "      <th>overs</th>\n",
       "      <th>runs_last_5</th>\n",
       "      <th>wickets_last_5</th>\n",
       "      <th>total</th>\n",
       "      <th>batting_team_Delhi Daredevils</th>\n",
       "      <th>batting_team_Gujarat Lions</th>\n",
       "      <th>batting_team_Kings XI Punjab</th>\n",
       "      <th>batting_team_Kolkata Knight Riders</th>\n",
       "      <th>batting_team_Mumbai Indians</th>\n",
       "      <th>batting_team_Rajasthan Royals</th>\n",
       "      <th>batting_team_Royal Challengers Bangalore</th>\n",
       "      <th>batting_team_Sunrisers Hyderabad</th>\n",
       "      <th>bowling_team_Delhi Daredevils</th>\n",
       "      <th>bowling_team_Gujarat Lions</th>\n",
       "      <th>bowling_team_Kings XI Punjab</th>\n",
       "      <th>bowling_team_Kolkata Knight Riders</th>\n",
       "      <th>bowling_team_Mumbai Indians</th>\n",
       "      <th>bowling_team_Rajasthan Royals</th>\n",
       "      <th>bowling_team_Royal Challengers Bangalore</th>\n",
       "      <th>bowling_team_Sunrisers Hyderabad</th>\n",
       "    </tr>\n",
       "  </thead>\n",
       "  <tbody>\n",
       "    <tr>\n",
       "      <th>32</th>\n",
       "      <td>14</td>\n",
       "      <td>61</td>\n",
       "      <td>0</td>\n",
       "      <td>5.1</td>\n",
       "      <td>59</td>\n",
       "      <td>0</td>\n",
       "      <td>222</td>\n",
       "      <td>0</td>\n",
       "      <td>0</td>\n",
       "      <td>0</td>\n",
       "      <td>1</td>\n",
       "      <td>0</td>\n",
       "      <td>0</td>\n",
       "      <td>0</td>\n",
       "      <td>0</td>\n",
       "      <td>0</td>\n",
       "      <td>0</td>\n",
       "      <td>0</td>\n",
       "      <td>0</td>\n",
       "      <td>0</td>\n",
       "      <td>0</td>\n",
       "      <td>1</td>\n",
       "      <td>0</td>\n",
       "    </tr>\n",
       "    <tr>\n",
       "      <th>33</th>\n",
       "      <td>14</td>\n",
       "      <td>61</td>\n",
       "      <td>1</td>\n",
       "      <td>5.2</td>\n",
       "      <td>59</td>\n",
       "      <td>1</td>\n",
       "      <td>222</td>\n",
       "      <td>0</td>\n",
       "      <td>0</td>\n",
       "      <td>0</td>\n",
       "      <td>1</td>\n",
       "      <td>0</td>\n",
       "      <td>0</td>\n",
       "      <td>0</td>\n",
       "      <td>0</td>\n",
       "      <td>0</td>\n",
       "      <td>0</td>\n",
       "      <td>0</td>\n",
       "      <td>0</td>\n",
       "      <td>0</td>\n",
       "      <td>0</td>\n",
       "      <td>1</td>\n",
       "      <td>0</td>\n",
       "    </tr>\n",
       "    <tr>\n",
       "      <th>34</th>\n",
       "      <td>14</td>\n",
       "      <td>61</td>\n",
       "      <td>1</td>\n",
       "      <td>5.3</td>\n",
       "      <td>59</td>\n",
       "      <td>1</td>\n",
       "      <td>222</td>\n",
       "      <td>0</td>\n",
       "      <td>0</td>\n",
       "      <td>0</td>\n",
       "      <td>1</td>\n",
       "      <td>0</td>\n",
       "      <td>0</td>\n",
       "      <td>0</td>\n",
       "      <td>0</td>\n",
       "      <td>0</td>\n",
       "      <td>0</td>\n",
       "      <td>0</td>\n",
       "      <td>0</td>\n",
       "      <td>0</td>\n",
       "      <td>0</td>\n",
       "      <td>1</td>\n",
       "      <td>0</td>\n",
       "    </tr>\n",
       "    <tr>\n",
       "      <th>35</th>\n",
       "      <td>14</td>\n",
       "      <td>61</td>\n",
       "      <td>1</td>\n",
       "      <td>5.4</td>\n",
       "      <td>59</td>\n",
       "      <td>1</td>\n",
       "      <td>222</td>\n",
       "      <td>0</td>\n",
       "      <td>0</td>\n",
       "      <td>0</td>\n",
       "      <td>1</td>\n",
       "      <td>0</td>\n",
       "      <td>0</td>\n",
       "      <td>0</td>\n",
       "      <td>0</td>\n",
       "      <td>0</td>\n",
       "      <td>0</td>\n",
       "      <td>0</td>\n",
       "      <td>0</td>\n",
       "      <td>0</td>\n",
       "      <td>0</td>\n",
       "      <td>1</td>\n",
       "      <td>0</td>\n",
       "    </tr>\n",
       "    <tr>\n",
       "      <th>36</th>\n",
       "      <td>14</td>\n",
       "      <td>61</td>\n",
       "      <td>1</td>\n",
       "      <td>5.5</td>\n",
       "      <td>58</td>\n",
       "      <td>1</td>\n",
       "      <td>222</td>\n",
       "      <td>0</td>\n",
       "      <td>0</td>\n",
       "      <td>0</td>\n",
       "      <td>1</td>\n",
       "      <td>0</td>\n",
       "      <td>0</td>\n",
       "      <td>0</td>\n",
       "      <td>0</td>\n",
       "      <td>0</td>\n",
       "      <td>0</td>\n",
       "      <td>0</td>\n",
       "      <td>0</td>\n",
       "      <td>0</td>\n",
       "      <td>0</td>\n",
       "      <td>1</td>\n",
       "      <td>0</td>\n",
       "    </tr>\n",
       "  </tbody>\n",
       "</table>\n",
       "</div>"
      ],
      "text/plain": [
       "    venue  runs  wickets  overs  runs_last_5  wickets_last_5  total  \\\n",
       "32     14    61        0    5.1           59               0    222   \n",
       "33     14    61        1    5.2           59               1    222   \n",
       "34     14    61        1    5.3           59               1    222   \n",
       "35     14    61        1    5.4           59               1    222   \n",
       "36     14    61        1    5.5           58               1    222   \n",
       "\n",
       "    batting_team_Delhi Daredevils  batting_team_Gujarat Lions  \\\n",
       "32                              0                           0   \n",
       "33                              0                           0   \n",
       "34                              0                           0   \n",
       "35                              0                           0   \n",
       "36                              0                           0   \n",
       "\n",
       "    batting_team_Kings XI Punjab  batting_team_Kolkata Knight Riders  \\\n",
       "32                             0                                   1   \n",
       "33                             0                                   1   \n",
       "34                             0                                   1   \n",
       "35                             0                                   1   \n",
       "36                             0                                   1   \n",
       "\n",
       "    batting_team_Mumbai Indians  batting_team_Rajasthan Royals  \\\n",
       "32                            0                              0   \n",
       "33                            0                              0   \n",
       "34                            0                              0   \n",
       "35                            0                              0   \n",
       "36                            0                              0   \n",
       "\n",
       "    batting_team_Royal Challengers Bangalore  \\\n",
       "32                                         0   \n",
       "33                                         0   \n",
       "34                                         0   \n",
       "35                                         0   \n",
       "36                                         0   \n",
       "\n",
       "    batting_team_Sunrisers Hyderabad  bowling_team_Delhi Daredevils  \\\n",
       "32                                 0                              0   \n",
       "33                                 0                              0   \n",
       "34                                 0                              0   \n",
       "35                                 0                              0   \n",
       "36                                 0                              0   \n",
       "\n",
       "    bowling_team_Gujarat Lions  bowling_team_Kings XI Punjab  \\\n",
       "32                           0                             0   \n",
       "33                           0                             0   \n",
       "34                           0                             0   \n",
       "35                           0                             0   \n",
       "36                           0                             0   \n",
       "\n",
       "    bowling_team_Kolkata Knight Riders  bowling_team_Mumbai Indians  \\\n",
       "32                                   0                            0   \n",
       "33                                   0                            0   \n",
       "34                                   0                            0   \n",
       "35                                   0                            0   \n",
       "36                                   0                            0   \n",
       "\n",
       "    bowling_team_Rajasthan Royals  bowling_team_Royal Challengers Bangalore  \\\n",
       "32                              0                                         1   \n",
       "33                              0                                         1   \n",
       "34                              0                                         1   \n",
       "35                              0                                         1   \n",
       "36                              0                                         1   \n",
       "\n",
       "    bowling_team_Sunrisers Hyderabad  \n",
       "32                                 0  \n",
       "33                                 0  \n",
       "34                                 0  \n",
       "35                                 0  \n",
       "36                                 0  "
      ]
     },
     "execution_count": 65,
     "metadata": {},
     "output_type": "execute_result"
    }
   ],
   "source": [
    "pd.set_option('display.max_columns', None)\n",
    "final_data.head()"
   ]
  },
  {
   "cell_type": "code",
   "execution_count": 66,
   "id": "7e640767",
   "metadata": {},
   "outputs": [
    {
     "data": {
      "text/plain": [
       "{'M Chinnaswamy Stadium': 14,\n",
       " 'Punjab Cricket Association Stadium, Mohali': 21,\n",
       " 'Feroz Shah Kotla': 8,\n",
       " 'Wankhede Stadium': 32,\n",
       " 'Sawai Mansingh Stadium': 25,\n",
       " 'MA Chidambaram Stadium, Chepauk': 15,\n",
       " 'Eden Gardens': 7,\n",
       " 'Dr DY Patil Sports Academy': 4,\n",
       " 'Newlands': 18,\n",
       " \"St George's Park\": 29,\n",
       " 'Kingsmead': 13,\n",
       " 'SuperSport Park': 31,\n",
       " 'Buffalo Park': 2,\n",
       " 'New Wanderers Stadium': 17,\n",
       " 'De Beers Diamond Oval': 3,\n",
       " 'OUTsurance Oval': 19,\n",
       " 'Brabourne Stadium': 1,\n",
       " 'Sardar Patel Stadium, Motera': 23,\n",
       " 'Himachal Pradesh Cricket Association Stadium': 10,\n",
       " 'Subrata Roy Sahara Stadium': 30,\n",
       " 'Rajiv Gandhi International Stadium, Uppal': 22,\n",
       " 'Shaheed Veer Narayan Singh International Stadium': 26,\n",
       " 'JSCA International Stadium Complex': 12,\n",
       " 'Sheikh Zayed Stadium': 28,\n",
       " 'Sharjah Cricket Stadium': 27,\n",
       " 'Dubai International Cricket Stadium': 6,\n",
       " 'Barabati Stadium': 0,\n",
       " 'Maharashtra Cricket Association Stadium': 16,\n",
       " 'Dr. Y.S. Rajasekhara Reddy ACA-VDCA Cricket Stadium': 5,\n",
       " 'Punjab Cricket Association IS Bindra Stadium, Mohali': 20,\n",
       " 'Saurashtra Cricket Association Stadium': 24,\n",
       " 'Green Park': 9,\n",
       " 'Holkar Cricket Stadium': 11}"
      ]
     },
     "execution_count": 66,
     "metadata": {},
     "output_type": "execute_result"
    }
   ],
   "source": [
    "venue_names = data.venue.unique()\n",
    "encoded_venue_values = encoded_data.venue.unique()\n",
    "venue_dic = dict(zip(venue_names, encoded_venue_values))\n",
    "venue_dic"
   ]
  },
  {
   "cell_type": "code",
   "execution_count": 67,
   "id": "14a92ef6",
   "metadata": {},
   "outputs": [],
   "source": [
    "def predict_score(venue, runs, wickets, overs, runs_last_5, wickets_last_5, batting_team, bowling_team, model=forest_reg):\n",
    "    prediction_array = []\n",
    "    \n",
    "    # Venue\n",
    "    if venue == 'Barabati Stadium':\n",
    "        prediction_array = prediction_array + [0]\n",
    "    elif venue == 'Brabourne Stadium':\n",
    "        prediction_array = prediction_array + [1]\n",
    "    elif venue == 'Buffalo Park':\n",
    "        prediction_array = prediction_array + [2]\n",
    "    elif venue == 'De Beers Diamond Oval':\n",
    "        prediction_array = prediction_array + [3]\n",
    "    elif venue == 'Dr DY Patil Sports Academy':\n",
    "        prediction_array = prediction_array + [4]\n",
    "    elif venue == 'Dr. Y.S. Rajasekhara Reddy ACA-VDCA Cricket Stadium':\n",
    "        prediction_array = prediction_array + [5]\n",
    "    elif venue == 'Dubai International Cricket Stadium':\n",
    "        prediction_array = prediction_array + [6]\n",
    "    elif venue == 'Eden Gardens':\n",
    "        prediction_array = prediction_array + [7]\n",
    "    elif venue == 'Feroz Shah Kotla':\n",
    "        prediction_array = prediction_array + [8]\n",
    "    elif venue == 'Green Park':\n",
    "        prediction_array = prediction_array + [9]\n",
    "    elif venue == 'Himachal Pradesh Cricket Association Stadium':\n",
    "        prediction_array = prediction_array + [10]\n",
    "    elif venue == 'JSCA International Stadium Complex':\n",
    "        prediction_array = prediction_array + [12]\n",
    "    elif venue == 'Kingsmead':\n",
    "        prediction_array = prediction_array + [13]\n",
    "    elif venue == 'M Chinnaswamy Stadium':\n",
    "        prediction_array = prediction_array + [14]\n",
    "    elif venue == 'MA Chidambaram Stadium, Chepauk':\n",
    "        prediction_array = prediction_array + [15]\n",
    "    elif venue == 'Maharashtra Cricket Association Stadium':\n",
    "        prediction_array = prediction_array + [16]\n",
    "    elif venue == 'New Wanderers Stadium':\n",
    "        prediction_array = prediction_array + [17]\n",
    "    elif venue == 'Newlands':\n",
    "        prediction_array = prediction_array + [18]\n",
    "    elif venue == 'OUTsurance Oval':\n",
    "        prediction_array = prediction_array + [19]\n",
    "    elif venue == 'Punjab Cricket Association IS Bindra Stadium, Mohali':\n",
    "        prediction_array = prediction_array + [20]\n",
    "    elif venue == 'Punjab Cricket Association Stadium, Mohali':\n",
    "        prediction_array = prediction_array + [21]\n",
    "    elif venue == 'Rajiv Gandhi International Stadium, Uppal':\n",
    "        prediction_array = prediction_array + [22]\n",
    "    elif venue == 'Sardar Patel Stadium, Motera':\n",
    "        prediction_array = prediction_array + [23]\n",
    "    elif venue == 'Saurashtra Cricket Association Stadium':\n",
    "        prediction_array = prediction_array + [24]\n",
    "    elif venue == 'Sawai Mansingh Stadium':\n",
    "        prediction_array = prediction_array + [25]\n",
    "    elif venue == 'Shaheed Veer Narayan Singh International Stadium':\n",
    "        prediction_array = prediction_array + [26]\n",
    "    elif venue == 'Sharjah Cricket Stadium':\n",
    "        prediction_array = prediction_array + [27]\n",
    "    elif venue == 'Sheikh Zayed Stadium':\n",
    "        prediction_array = prediction_array + [28]\n",
    "    elif venue == \"St George's Park\":\n",
    "        prediction_array = prediction_array + [29]\n",
    "    elif venue == 'Subrata Roy Sahara Stadium':\n",
    "        prediction_array = prediction_array + [30]\n",
    "    elif venue == 'SuperSport Park':\n",
    "        prediction_array = prediction_array + [31]\n",
    "    elif venue == 'Wankhede Stadium':\n",
    "        prediction_array = prediction_array + [32]\n",
    "    \n",
    "    prediction_array = prediction_array + [runs, wickets, overs, runs_last_5, wickets_last_5]\n",
    "    \n",
    "    \n",
    "      # Batting Team\n",
    "    if batting_team == 'Chennai Super Kings':\n",
    "        prediction_array = prediction_array + [1,0,0,0,0,0,0,0]\n",
    "    elif batting_team == 'Delhi Daredevils':\n",
    "        prediction_array = prediction_array + [0,1,0,0,0,0,0,0]\n",
    "    elif batting_team == 'Kings XI Punjab':\n",
    "        prediction_array = prediction_array + [0,0,1,0,0,0,0,0]\n",
    "    elif batting_team == 'Kolkata Knight Riders':\n",
    "        prediction_array = prediction_array + [0,0,0,1,0,0,0,0]\n",
    "    elif batting_team == 'Mumbai Indians':\n",
    "        prediction_array = prediction_array + [0,0,0,0,1,0,0,0]\n",
    "    elif batting_team == 'Rajasthan Royals':\n",
    "        prediction_array = prediction_array + [0,0,0,0,0,1,0,0]\n",
    "    elif batting_team == 'Royal Challengers Bangalore':\n",
    "        prediction_array = prediction_array + [0,0,0,0,0,0,1,0]\n",
    "    elif batting_team == 'Sunrisers Hyderabad':\n",
    "        prediction_array = prediction_array + [0,0,0,0,0,0,0,1]\n",
    "        \n",
    "      # Bowling Team\n",
    "    if bowling_team == 'Chennai Super Kings':\n",
    "        prediction_array = prediction_array + [1,0,0,0,0,0,0,0]\n",
    "    elif bowling_team == 'Delhi Daredevils':\n",
    "        prediction_array = prediction_array + [0,1,0,0,0,0,0,0]\n",
    "    elif bowling_team == 'Kings XI Punjab':\n",
    "        prediction_array = prediction_array + [0,0,1,0,0,0,0,0]\n",
    "    elif bowling_team == 'Kolkata Knight Riders':\n",
    "        prediction_array = prediction_array + [0,0,0,1,0,0,0,0]\n",
    "    elif bowling_team == 'Mumbai Indians':\n",
    "        prediction_array = prediction_array + [0,0,0,0,1,0,0,0]\n",
    "    elif bowling_team == 'Rajasthan Royals':\n",
    "        prediction_array = prediction_array + [0,0,0,0,0,1,0,0]\n",
    "    elif bowling_team == 'Royal Challengers Bangalore':\n",
    "        prediction_array = prediction_array + [0,0,0,0,0,0,1,0]\n",
    "    elif bowling_team == 'Sunrisers Hyderabad':\n",
    "        prediction_array = prediction_array + [0,0,0,0,0,0,0,1]\n",
    "        \n",
    "    prediction_array = np.array([prediction_array])\n",
    "    pred = model.predict(prediction_array)\n",
    "    return int(round(pred[0]))"
   ]
  },
  {
   "cell_type": "code",
   "execution_count": 68,
   "id": "8285aeee",
   "metadata": {},
   "outputs": [
    {
     "data": {
      "text/html": [
       "<div>\n",
       "<style scoped>\n",
       "    .dataframe tbody tr th:only-of-type {\n",
       "        vertical-align: middle;\n",
       "    }\n",
       "\n",
       "    .dataframe tbody tr th {\n",
       "        vertical-align: top;\n",
       "    }\n",
       "\n",
       "    .dataframe thead th {\n",
       "        text-align: right;\n",
       "    }\n",
       "</style>\n",
       "<table border=\"1\" class=\"dataframe\">\n",
       "  <thead>\n",
       "    <tr style=\"text-align: right;\">\n",
       "      <th></th>\n",
       "      <th>venue</th>\n",
       "      <th>runs</th>\n",
       "      <th>wickets</th>\n",
       "      <th>overs</th>\n",
       "      <th>runs_last_5</th>\n",
       "      <th>wickets_last_5</th>\n",
       "      <th>batting_team_Delhi Daredevils</th>\n",
       "      <th>batting_team_Gujarat Lions</th>\n",
       "      <th>batting_team_Kings XI Punjab</th>\n",
       "      <th>batting_team_Kolkata Knight Riders</th>\n",
       "      <th>batting_team_Mumbai Indians</th>\n",
       "      <th>batting_team_Rajasthan Royals</th>\n",
       "      <th>batting_team_Royal Challengers Bangalore</th>\n",
       "      <th>batting_team_Sunrisers Hyderabad</th>\n",
       "      <th>bowling_team_Delhi Daredevils</th>\n",
       "      <th>bowling_team_Gujarat Lions</th>\n",
       "      <th>bowling_team_Kings XI Punjab</th>\n",
       "      <th>bowling_team_Kolkata Knight Riders</th>\n",
       "      <th>bowling_team_Mumbai Indians</th>\n",
       "      <th>bowling_team_Rajasthan Royals</th>\n",
       "      <th>bowling_team_Royal Challengers Bangalore</th>\n",
       "      <th>bowling_team_Sunrisers Hyderabad</th>\n",
       "    </tr>\n",
       "  </thead>\n",
       "  <tbody>\n",
       "    <tr>\n",
       "      <th>56324</th>\n",
       "      <td>23</td>\n",
       "      <td>109</td>\n",
       "      <td>4</td>\n",
       "      <td>16.2</td>\n",
       "      <td>62</td>\n",
       "      <td>0</td>\n",
       "      <td>0</td>\n",
       "      <td>0</td>\n",
       "      <td>0</td>\n",
       "      <td>0</td>\n",
       "      <td>1</td>\n",
       "      <td>0</td>\n",
       "      <td>0</td>\n",
       "      <td>0</td>\n",
       "      <td>0</td>\n",
       "      <td>0</td>\n",
       "      <td>0</td>\n",
       "      <td>0</td>\n",
       "      <td>0</td>\n",
       "      <td>1</td>\n",
       "      <td>0</td>\n",
       "      <td>0</td>\n",
       "    </tr>\n",
       "    <tr>\n",
       "      <th>31670</th>\n",
       "      <td>7</td>\n",
       "      <td>43</td>\n",
       "      <td>2</td>\n",
       "      <td>8.2</td>\n",
       "      <td>25</td>\n",
       "      <td>1</td>\n",
       "      <td>0</td>\n",
       "      <td>0</td>\n",
       "      <td>1</td>\n",
       "      <td>0</td>\n",
       "      <td>0</td>\n",
       "      <td>0</td>\n",
       "      <td>0</td>\n",
       "      <td>0</td>\n",
       "      <td>0</td>\n",
       "      <td>0</td>\n",
       "      <td>0</td>\n",
       "      <td>1</td>\n",
       "      <td>0</td>\n",
       "      <td>0</td>\n",
       "      <td>0</td>\n",
       "      <td>0</td>\n",
       "    </tr>\n",
       "    <tr>\n",
       "      <th>63744</th>\n",
       "      <td>24</td>\n",
       "      <td>89</td>\n",
       "      <td>3</td>\n",
       "      <td>12.4</td>\n",
       "      <td>31</td>\n",
       "      <td>1</td>\n",
       "      <td>0</td>\n",
       "      <td>1</td>\n",
       "      <td>0</td>\n",
       "      <td>0</td>\n",
       "      <td>0</td>\n",
       "      <td>0</td>\n",
       "      <td>0</td>\n",
       "      <td>0</td>\n",
       "      <td>0</td>\n",
       "      <td>0</td>\n",
       "      <td>0</td>\n",
       "      <td>0</td>\n",
       "      <td>0</td>\n",
       "      <td>0</td>\n",
       "      <td>0</td>\n",
       "      <td>1</td>\n",
       "    </tr>\n",
       "    <tr>\n",
       "      <th>14671</th>\n",
       "      <td>8</td>\n",
       "      <td>147</td>\n",
       "      <td>3</td>\n",
       "      <td>13.3</td>\n",
       "      <td>49</td>\n",
       "      <td>1</td>\n",
       "      <td>0</td>\n",
       "      <td>0</td>\n",
       "      <td>0</td>\n",
       "      <td>0</td>\n",
       "      <td>1</td>\n",
       "      <td>0</td>\n",
       "      <td>0</td>\n",
       "      <td>0</td>\n",
       "      <td>1</td>\n",
       "      <td>0</td>\n",
       "      <td>0</td>\n",
       "      <td>0</td>\n",
       "      <td>0</td>\n",
       "      <td>0</td>\n",
       "      <td>0</td>\n",
       "      <td>0</td>\n",
       "    </tr>\n",
       "    <tr>\n",
       "      <th>9695</th>\n",
       "      <td>29</td>\n",
       "      <td>113</td>\n",
       "      <td>3</td>\n",
       "      <td>16.6</td>\n",
       "      <td>42</td>\n",
       "      <td>1</td>\n",
       "      <td>0</td>\n",
       "      <td>0</td>\n",
       "      <td>0</td>\n",
       "      <td>1</td>\n",
       "      <td>0</td>\n",
       "      <td>0</td>\n",
       "      <td>0</td>\n",
       "      <td>0</td>\n",
       "      <td>0</td>\n",
       "      <td>0</td>\n",
       "      <td>1</td>\n",
       "      <td>0</td>\n",
       "      <td>0</td>\n",
       "      <td>0</td>\n",
       "      <td>0</td>\n",
       "      <td>0</td>\n",
       "    </tr>\n",
       "  </tbody>\n",
       "</table>\n",
       "</div>"
      ],
      "text/plain": [
       "       venue  runs  wickets  overs  runs_last_5  wickets_last_5  \\\n",
       "56324     23   109        4   16.2           62               0   \n",
       "31670      7    43        2    8.2           25               1   \n",
       "63744     24    89        3   12.4           31               1   \n",
       "14671      8   147        3   13.3           49               1   \n",
       "9695      29   113        3   16.6           42               1   \n",
       "\n",
       "       batting_team_Delhi Daredevils  batting_team_Gujarat Lions  \\\n",
       "56324                              0                           0   \n",
       "31670                              0                           0   \n",
       "63744                              0                           1   \n",
       "14671                              0                           0   \n",
       "9695                               0                           0   \n",
       "\n",
       "       batting_team_Kings XI Punjab  batting_team_Kolkata Knight Riders  \\\n",
       "56324                             0                                   0   \n",
       "31670                             1                                   0   \n",
       "63744                             0                                   0   \n",
       "14671                             0                                   0   \n",
       "9695                              0                                   1   \n",
       "\n",
       "       batting_team_Mumbai Indians  batting_team_Rajasthan Royals  \\\n",
       "56324                            1                              0   \n",
       "31670                            0                              0   \n",
       "63744                            0                              0   \n",
       "14671                            1                              0   \n",
       "9695                             0                              0   \n",
       "\n",
       "       batting_team_Royal Challengers Bangalore  \\\n",
       "56324                                         0   \n",
       "31670                                         0   \n",
       "63744                                         0   \n",
       "14671                                         0   \n",
       "9695                                          0   \n",
       "\n",
       "       batting_team_Sunrisers Hyderabad  bowling_team_Delhi Daredevils  \\\n",
       "56324                                 0                              0   \n",
       "31670                                 0                              0   \n",
       "63744                                 0                              0   \n",
       "14671                                 0                              1   \n",
       "9695                                  0                              0   \n",
       "\n",
       "       bowling_team_Gujarat Lions  bowling_team_Kings XI Punjab  \\\n",
       "56324                           0                             0   \n",
       "31670                           0                             0   \n",
       "63744                           0                             0   \n",
       "14671                           0                             0   \n",
       "9695                            0                             1   \n",
       "\n",
       "       bowling_team_Kolkata Knight Riders  bowling_team_Mumbai Indians  \\\n",
       "56324                                   0                            0   \n",
       "31670                                   1                            0   \n",
       "63744                                   0                            0   \n",
       "14671                                   0                            0   \n",
       "9695                                    0                            0   \n",
       "\n",
       "       bowling_team_Rajasthan Royals  \\\n",
       "56324                              1   \n",
       "31670                              0   \n",
       "63744                              0   \n",
       "14671                              0   \n",
       "9695                               0   \n",
       "\n",
       "       bowling_team_Royal Challengers Bangalore  \\\n",
       "56324                                         0   \n",
       "31670                                         0   \n",
       "63744                                         0   \n",
       "14671                                         0   \n",
       "9695                                          0   \n",
       "\n",
       "       bowling_team_Sunrisers Hyderabad  \n",
       "56324                                 0  \n",
       "31670                                 0  \n",
       "63744                                 1  \n",
       "14671                                 0  \n",
       "9695                                  0  "
      ]
     },
     "execution_count": 68,
     "metadata": {},
     "output_type": "execute_result"
    }
   ],
   "source": [
    "X_test.tail(5)"
   ]
  },
  {
   "cell_type": "code",
   "execution_count": 69,
   "id": "acf37ad7",
   "metadata": {},
   "outputs": [
    {
     "data": {
      "text/plain": [
       "56324    164\n",
       "31670    134\n",
       "63744    135\n",
       "14671    218\n",
       "9695     153\n",
       "Name: total, dtype: int64"
      ]
     },
     "execution_count": 69,
     "metadata": {},
     "output_type": "execute_result"
    }
   ],
   "source": [
    "y_test[-5:]"
   ]
  },
  {
   "cell_type": "markdown",
   "id": "6120a648",
   "metadata": {},
   "source": [
    "    Prediction 01\n",
    "     - venue = 'Eden Gardens'\n",
    "     - batting_team = 'Kings XI Punjab'\n",
    "     - bowling_team = 'Kolkata Knight Riders'\n",
    "     - Actual score = 134"
   ]
  },
  {
   "cell_type": "code",
   "execution_count": 70,
   "id": "2f261b18",
   "metadata": {},
   "outputs": [
    {
     "name": "stdout",
     "output_type": "stream",
     "text": [
      "Predicted score: 133 | Actual score: 134\n"
     ]
    }
   ],
   "source": [
    "venue = 'Eden Gardens'\n",
    "batting_team = 'Kings XI Punjab'\n",
    "bowling_team = 'Kolkata Knight Riders'\n",
    "score = predict_score(venue, runs = 43, wickets = 2,overs = 8.2, runs_last_5 = 25,\n",
    "                      wickets_last_5 = 1, batting_team = batting_team, bowling_team = bowling_team)\n",
    "print(f'Predicted score: {score} | Actual score: {134}')"
   ]
  },
  {
   "cell_type": "markdown",
   "id": "1f876197",
   "metadata": {},
   "source": [
    "    Prediction 02\n",
    "     - venue = 'Feroz Shah Kotla'\n",
    "     - batting_team = 'Mumbai Indians'\n",
    "     - bowling_team = 'Delhi Daredevils'\n",
    "     - Actual score = 218"
   ]
  },
  {
   "cell_type": "code",
   "execution_count": 71,
   "id": "ae2be5a7",
   "metadata": {},
   "outputs": [
    {
     "name": "stdout",
     "output_type": "stream",
     "text": [
      "Predicted score: 212 | Actual score: 218\n"
     ]
    }
   ],
   "source": [
    "venue = 'Feroz Shah Kotla'\n",
    "batting_team = 'Mumbai Indians'\n",
    "bowling_team = 'Delhi Daredevils'\n",
    "score = predict_score(venue, runs = 147, wickets = 3,overs = 13.3, runs_last_5 = 49,\n",
    "                      wickets_last_5 = 1, batting_team = batting_team, bowling_team = bowling_team)\n",
    "print(f'Predicted score: {score} | Actual score: {218}')"
   ]
  }
 ],
 "metadata": {
  "kernelspec": {
   "display_name": "Python 3 (ipykernel)",
   "language": "python",
   "name": "python3"
  },
  "language_info": {
   "codemirror_mode": {
    "name": "ipython",
    "version": 3
   },
   "file_extension": ".py",
   "mimetype": "text/x-python",
   "name": "python",
   "nbconvert_exporter": "python",
   "pygments_lexer": "ipython3",
   "version": "3.9.7"
  }
 },
 "nbformat": 4,
 "nbformat_minor": 5
}
